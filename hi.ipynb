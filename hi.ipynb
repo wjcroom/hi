 
import ipywidgets
import ipywidgets as widgets
#print(widgets.Button.on_click.__doc__)
from IPython.display import display
 

button = widgets.Button(description="Click Me!")
output = widgets.Output()
input_text = widgets.Text(description='A=')
input_text2 = widgets.Text(description='B=')
plus_text = widgets.Label(value='+', layout=widgets.Layout(left='30px'))
html = widgets.HTML(value='')
submit_button = widgets.Button(
    description='A + B = ?',
    layout=widgets.Layout(left='220px'))
def submit(*ignore):
    a = int(input_text.value)
    b = int(input_text2.value)
    html.value = f'<b>{a + b}</b>'
    
submit_button.on_click(submit)

a=widgets.VBox([
    widgets.HBox([
        input_text,
        plus_text,
        input_text2
    ]),
    submit_button,
    html
])
def on_button_clicked(b):
    with output:
        print("Button clicked.")

button.on_click(on_button_clicked)
display(a,button, output)
